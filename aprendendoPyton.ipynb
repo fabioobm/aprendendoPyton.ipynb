{
  "nbformat": 4,
  "nbformat_minor": 0,
  "metadata": {
    "colab": {
      "provenance": [],
      "authorship_tag": "ABX9TyOLcjusslJ2YkfIzcOjoDyQ",
      "include_colab_link": true
    },
    "kernelspec": {
      "name": "python3",
      "display_name": "Python 3"
    },
    "language_info": {
      "name": "python"
    }
  },
  "cells": [
    {
      "cell_type": "markdown",
      "metadata": {
        "id": "view-in-github",
        "colab_type": "text"
      },
      "source": [
        "<a href=\"https://colab.research.google.com/github/fabioobm/aprendendoPyton.ipynb/blob/main/aprendendoPyton.ipynb\" target=\"_parent\"><img src=\"https://colab.research.google.com/assets/colab-badge.svg\" alt=\"Open In Colab\"/></a>"
      ]
    },
    {
      "cell_type": "code",
      "execution_count": 25,
      "metadata": {
        "colab": {
          "base_uri": "https://localhost:8080/"
        },
        "id": "wCN6IEPnu8vb",
        "outputId": "4a4805f5-a723-407e-a744-64767a406061"
      },
      "outputs": [
        {
          "output_type": "execute_result",
          "data": {
            "text/plain": [
              "{'palavra': 'css', 'dica': 'estilizar elementos em páginas web.'}"
            ]
          },
          "metadata": {},
          "execution_count": 25
        }
      ],
      "source": [
        "import requests\n",
        "import random\n",
        "\n",
        "url = 'https://raw.githubusercontent.com/guilhermeonrails/api-imersao-ia/main/words.json'\n",
        "\n",
        "#url = input(\"Comando ou 'sair' para encerrar): \")\n",
        "resposta = requests.get(url)\n",
        "#requests.get(url)\n",
        "resposta.json()\n",
        "len(data)\n",
        "\n",
        "\n",
        "\n",
        "\n",
        "data = resposta.json()\n",
        "#data\n",
        "#print(data)\n",
        "\n",
        "#data[4]\n",
        "\n",
        "#valor_secreto = random.choice(data)\n",
        "#palavra_secreta = valor_secreto['palavra']\n",
        "#dica = valor_secreto['dica']\n",
        "\n",
        "#print(f'A palavra secreta tem {len(palavra_secreta)} letras -> {dica}')"
      ]
    },
    {
      "cell_type": "code",
      "source": [
        "import random\n",
        "\n",
        "\n",
        "\n",
        "valor_secreto = random.choice(data)\n",
        "#print(valor_secreto)\n",
        "\n",
        "palavra_secreta = valor_secreto['palavra']\n",
        "dica = valor_secreto['dica']\n",
        "#print(f'a palavra secreta tem: {len(palavra_secreta)} - {dica}')\n",
        "#print(dica)\n",
        "chute = input(f'a palavra secreta tem: {len(palavra_secreta)} - {dica}')\n",
        "if chute == palavra_secreta:\n",
        "  print(f\"acetrou\")\n",
        "else:\n",
        "  print(f'errou.. a palavra era:{palavra_secreta}')\n"
      ],
      "metadata": {
        "colab": {
          "base_uri": "https://localhost:8080/"
        },
        "id": "qu6sS009z9EL",
        "outputId": "e031a9a8-6f7b-4af9-e57d-8a9a1ebda1db"
      },
      "execution_count": 40,
      "outputs": [
        {
          "output_type": "stream",
          "name": "stdout",
          "text": [
            "a palavra secreta tem: 3 - integrar e comunicar sistemas e serviços de software.es\n",
            "errou.. a palavra era:api\n"
          ]
        }
      ]
    },
    {
      "cell_type": "code",
      "source": [
        "import random\n",
        "\n",
        "\n",
        "\n",
        "valor_secreto = random.choice(data)\n",
        "#print(valor_secreto)\n",
        "\n",
        "palavra_secreta = valor_secreto['palavra']\n",
        "dica = valor_secreto['dica']\n",
        "\n",
        "\n",
        "print(f'a palavra secreta tem: {len(palavra_secreta)} letras')\n",
        "print(f'a dica e: - {dica}')\n",
        "#print(dica)\n",
        "chute = input(f'o que voce acha que e:')\n",
        "if chute == palavra_secreta:\n",
        "  print(f\"acetrou\")\n",
        "else:\n",
        "  print(f'errou.. a palavra era:{palavra_secreta}')"
      ],
      "metadata": {
        "colab": {
          "base_uri": "https://localhost:8080/"
        },
        "id": "Gx65XvPh8Lj8",
        "outputId": "e6ba0019-a93d-49e8-ee42-dada19eb8494"
      },
      "execution_count": 44,
      "outputs": [
        {
          "output_type": "stream",
          "name": "stdout",
          "text": [
            "a palavra secreta tem: 4 letras\n",
            "a dica e: - estruturar conteúdo em páginas web.\n",
            "o que voce acha que e:assd\n",
            "errou.. a palavra era:html\n"
          ]
        }
      ]
    },
    {
      "cell_type": "code",
      "source": [
        "a = 5\n",
        "b = 3\n",
        "if(a == b):\n",
        "  print(\"igual\")\n",
        "else:\n",
        "  print(\"nao igual\")"
      ],
      "metadata": {
        "colab": {
          "base_uri": "https://localhost:8080/"
        },
        "id": "UwuZAc-m2ft3",
        "outputId": "b0d10542-09dd-4c0a-c0b1-d3d3318e2bb2"
      },
      "execution_count": 20,
      "outputs": [
        {
          "output_type": "stream",
          "name": "stdout",
          "text": [
            "nao igual\n"
          ]
        }
      ]
    }
  ]
}